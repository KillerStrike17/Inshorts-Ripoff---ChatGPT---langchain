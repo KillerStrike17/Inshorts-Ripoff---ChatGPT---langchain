{
 "cells": [
  {
   "cell_type": "code",
   "execution_count": 43,
   "metadata": {},
   "outputs": [],
   "source": [
    "# !pip install newsdataapi"
   ]
  },
  {
   "cell_type": "code",
   "execution_count": 44,
   "metadata": {},
   "outputs": [],
   "source": [
    "import openai\n",
    "import json\n",
    "import os \n",
    "import numpy as np\n",
    "from newsdataapi import NewsDataApiClient\n",
    "from langchain.agents import initialize_agent, Tool\n",
    "from langchain.agents import AgentType\n",
    "from langchain.chat_models import ChatOpenAI\n",
    "from langchain.experimental.plan_and_execute import PlanAndExecute, load_agent_executor, load_chat_planner\n",
    "import credentials"
   ]
  },
  {
   "cell_type": "code",
   "execution_count": 45,
   "metadata": {},
   "outputs": [],
   "source": [
    "def get_news(searchquery:str=None)->list:\n",
    "    '''\n",
    "    input searchquery is a string that takes in a variable that needs to be searched. It is an optional variable\n",
    "    The function returns a list of string of latest news\n",
    "    '''\n",
    "    import random\n",
    "    api = NewsDataApiClient(apikey=credentials.NEWSDATA_KEY)\n",
    "    \n",
    "    page=None\n",
    "    news= []\n",
    "    # while True:\n",
    "    #     response = api.news_api(page = page,q= searchquery , country = \"us\")\n",
    "    #     page = response.get('nextPage',None)\n",
    "    #     if not page:\n",
    "    #         break\n",
    "    #     else:\n",
    "    #         news.append(page)\n",
    "    if searchquery:\n",
    "        response = api.news_api(q= searchquery,country = \"in\", language = 'en')\n",
    "    else:\n",
    "        response = api.news_api(country = \"in\", language = 'en')\n",
    "    \n",
    "    \n",
    "    news = [content['content'] for content in response['results']]\n",
    "    # news_dict = {i:content['content'] for i,content in enumerate(response['results'])}\n",
    "\n",
    "        \n",
    "    # {\"1\":\"asda\",\"2\":\"asd\"}        \n",
    "    return random.choice(news)\n",
    "    "
   ]
  },
  {
   "cell_type": "code",
   "execution_count": 46,
   "metadata": {},
   "outputs": [],
   "source": [
    "api = NewsDataApiClient(apikey=credentials.NEWSDATA_KEY)"
   ]
  },
  {
   "cell_type": "code",
   "execution_count": 47,
   "metadata": {},
   "outputs": [],
   "source": [
    "newssummary = Tool(\n",
    "    name='newssummary',\n",
    "    func = get_news,\n",
    "    description='get latest news as a list of string'\n",
    ")"
   ]
  },
  {
   "cell_type": "code",
   "execution_count": 48,
   "metadata": {},
   "outputs": [],
   "source": [
    "llm = ChatOpenAI(temperature=0, model='gpt-3.5-turbo-0613',openai_api_key=credentials.OPENAI_KEY)"
   ]
  },
  {
   "cell_type": "code",
   "execution_count": 49,
   "metadata": {},
   "outputs": [],
   "source": [
    "tools = [newssummary]\n",
    "agent = initialize_agent(tools,llm,agent=AgentType.OPENAI_FUNCTIONS,verbose = True)"
   ]
  },
  {
   "cell_type": "code",
   "execution_count": 50,
   "metadata": {},
   "outputs": [],
   "source": [
    "import langchain\n",
    "langchain.debug = False"
   ]
  },
  {
   "cell_type": "code",
   "execution_count": 52,
   "metadata": {},
   "outputs": [
    {
     "name": "stdout",
     "output_type": "stream",
     "text": [
      "\n",
      "\n",
      "\u001b[1m> Entering new  chain...\u001b[0m\n",
      "\u001b[32;1m\u001b[1;3m\n",
      "Invoking: `newssummary` with `{'source': 'latest'}`\n",
      "\n",
      "\n",
      "\u001b[0m\u001b[36;1m\u001b[1;3mPreliminary investigation has revealed that the accused carried out recces. Seven people have been arrested in connection with the gunpoint robbery of a delivery agent and his associate inside the Pragati Maidan tunnel here, police said on Tuesday. The accused robbed them of about Rs 2 lakh on Saturday when they were on their way in a taxi to Gurugram to deliver the money. Preliminary investigation has revealed that the accused carried out recces on Thursday and Friday, and were on the look out. On Saturday, they executed the robbery, a senior police officer said. CCTV camera footage received by the Delhi Police showed four motorcycle-borne men intercepted the car and robbed the delivery agent of Omiya Enterprises, Chandni Chowk, and his associate. The arrested are Usman, his cousin Irfan, Anuj Mishra, Kuldeep, Sumit, Pradeep and Bala, police said. They were following the taxi and chose to stop it inside the tunnel as they had a higher chance of success to execute the robbery. People usually do not stop in tunnels and drive through them at speed, according to police. Usman has been identified as the main conspirator and he gave information to the others, they said The 22-second footage shows the four men following the taxi on two motorcycles and intercepting it inside the tunnel as other vehicles passed by. As the taxi stopped, two men, wearing helmets, got off the motorcycles. One of them went towards the driver's side and the other to the rear door on the other side and whipped out their pistols. Promoted Listen to the latest songs, only on JioSaavn.com The footage then showed both the car gates open and the man at the rear end being handed over a black-coloured handbag, apparently carrying money. The two then quickly hopped onto their waiting motorcycles and fled with their accomplices. (Except for the headline, this story has not been edited by NDTV staff and is published from a syndicated feed.)\u001b[0m\u001b[32;1m\u001b[1;3mSeven people have been arrested for the gunpoint robbery of a delivery agent and his associate in Delhi. The accused robbed them of Rs 2 lakh while they were on their way to deliver the money. CCTV footage showed four men on motorcycles intercepting the car inside a tunnel and fleeing with the money.\u001b[0m\n",
      "\n",
      "\u001b[1m> Finished chain.\u001b[0m\n",
      "\n",
      "\n",
      "\u001b[1m> Entering new  chain...\u001b[0m\n",
      "\u001b[32;1m\u001b[1;3m\n",
      "Invoking: `newssummary` with `{'source': 'latest'}`\n",
      "\n",
      "\n",
      "\u001b[0m\u001b[36;1m\u001b[1;3mAAP said the government should focus on the multiple scams taking place in BJP-ruled states. The expenses made to renovate Delhi Chief Minister Arvind Kejriwal's bungalow will be probed by the country's top auditor, sources said today, after a months-long controversy. The Union Home Ministry has ordered the audit following a letter from Delhi's Lieutenant Governor VK Saxena alleging gross irregularities, sources said. Denying allegations of irregularities, Mr Kejriwal's Aam Aadmi Party has accused the Centre of targetting political opponents. \"The order for a CAG inquiry into the expenditure in the reconstruction of the Chief Minister's residence is exposing the desperation, cynicism and dictatorship of the BJP. Frustrated by the successive electoral defeats in Delhi, the BJP is plotting not only to defame the honest government of Chief Minister Arvind Kejriwal, but also to grab power here from behind the scenes,\" read a statement from AAP. The government, AAP added, should instead focus on the multiple scams taking place in the BJP-ruled states. Sources said the Comptroller and Auditor General of India, or CAG, will conduct the \"special audit\" into the \"administrative and financial\" irregularities in the renovation. The letter had alleged gross financial irregularities in the reconstruction of the building, located in north Delhi's Civil Lines. To start with, in the name of renovation -- usually involving just addition or alteration -- a full-fledged construction and re-construction was carried out by the Public Works Department, the LG has alleged. The PWD had not obtained sanction for the work, including demolition of a pre-existing building. It had not even ascertained ownership of the premises, sources said. The cost -- from an estimated 15-20 crore -- had gone up to Rs 53 crore, the LG had written. The BJP's Sambit Patra had earlier alleged that Mr Kejriwal's residence had been fitted with expensive marble from Vietnam, pre-fabricated wooden walls and curtains that cost lakhs of rupees each. One curtain alone cost more than Rs 7.94 lakh, he said. Promoted Listen to the latest songs, only on JioSaavn.com AAP had alleged that the accommodation earmarked for Mr Kejriwal was unfit to live. Party spokesperson Priyanka Kakkar had shared video of dilapidated rooms where plaster was coming off walls and a ceiling that suffered massive seepage. मित्र डॉनल्ड ट्रम्प की 3 घंटे की विज़िट के लिए 80 करोड़ खर्च दिया। गुजरात और मध्यप्रदेश के मुख्यमंत्री अपने लिए 200 करोड़ के हवाई जहाज़ ले लेते हैं। मजाल है कोई चैनल इस पर डिबेट कर ले। अरविंद केजरीवाल जी को 1942 में बना 1 एकड़ से भी छोटा बँगला एलोट किया जिसकी छत्ते 3 बार गिर… pic.twitter.com/GJZkSp60rD \"The Prime Minister, who calls himself a fakir, is getting a house built for himself with Rs 500 crore. Rs 90 crore was spent in renovating the house where he is living now,\" AAP's Sanjay Singh had said. Today, AAP said the Central agencies should investigate the Vyapam scam in Madhya Pradesh, the Chanda scam in Ayodhya Ram temple and the scam of the Chief Minister of Assam instead.\u001b[0m\u001b[32;1m\u001b[1;3mAAP demands CAG probe into Kejriwal's bungalow renovation. The Union Home Ministry has ordered an audit following allegations of irregularities. AAP accuses BJP of targeting political opponents. CAG to conduct special audit into financial irregularities. AAP urges investigation into scams in BJP-ruled states.\u001b[0m\n",
      "\n",
      "\u001b[1m> Finished chain.\u001b[0m\n",
      "\n",
      "\n",
      "\u001b[1m> Entering new  chain...\u001b[0m\n",
      "\u001b[32;1m\u001b[1;3m\n",
      "Invoking: `newssummary` with `{'source': 'latest'}`\n",
      "\n",
      "\n",
      "\u001b[0m\u001b[36;1m\u001b[1;3mPune attack: Man attacking a woman with a machete Armed with a machete or koyta, a man chased down a woman in a Pune street, showed a video, before he was overpowered by the locals and handed over to the cops. The incident is from Sadashiv Peth area. The man has been identified as Shantanu Laxman Jadhav. The victim is 20-year-old Priti Ramchandra. The woman's scooter was first stopped by the man, showed the video, who then casually brought out the machete and started attacking her. At this point, the woman, dressed in a salwar and suit with a bag on her back, sprinted across the street with the man, in shirt and trousers and wearing slippers, chasing her down, the surveillance footage showed. He hits her on the back, she falls face first, gets up but the man keeps attacking her, the video showed. The locals started throwing objects at the attacker to repel him and finally managed to restrain him and hand him over to the cops. Deputy Commissioner of Police, Pune, Sandeep Singh Gill said that the attacker has been arrested and charged under attempt to murder (Section 307 of the Indian Penal Code). The attacker had been harassing the woman, according to the victim's mother. Promoted Listen to the latest songs, only on JioSaavn.com \"We had also complained to the man's father, despite this he tried to kill our daughter today,\" the mother added.\u001b[0m\u001b[32;1m\u001b[1;3mPune attack: Man with machete chases and attacks woman in street. Locals overpower him and hand him over to police. Attacker arrested and charged with attempted murder. Victim's mother says he had been harassing her daughter.\u001b[0m\n",
      "\n",
      "\u001b[1m> Finished chain.\u001b[0m\n",
      "\n",
      "\n",
      "\u001b[1m> Entering new  chain...\u001b[0m\n",
      "\u001b[32;1m\u001b[1;3m\n",
      "Invoking: `newssummary` with `{'source': 'latest'}`\n",
      "\n",
      "\n",
      "\u001b[0m\u001b[36;1m\u001b[1;3mPrime Minister Narendra Modi's pitch for a uniform civil code has been vehemently questioned by the Congress and its ally, the DMK. The ruling party of Tamil Nadu had contended that a uniform code should first be applied to the Hindus, who will then have to allow people from all castes to pray in temples. \"Uniform Civil Code should be first introduced in the Hindu religion. Every person including Scheduled Castes and Tribes should be allowed to perform pooja in any temple in the country. We don't want UCC (uniform Civil Code) only because the Constitution has given protection to every religion,\" said DMK's TKS Elangovan. \"He (PM Modi) should first answer about poverty, price rise and unemployment in the country,\" read a statement from Congress general secretary KC Venugopal. \"He never speaks on Manipur issue. The whole state is burning. He is just distracting people from all these issues,\" he added. Pitching for the implementation of Uniform Civil Code, which has been part of BJP's election manifestos, PM Modi said today that it doesn't work to have \"different set of rules for different members of a family\" and a country can't run on two laws. If \"Triple Talaq\" is an inalienable part of Islam, why it isn't practised in Muslim-majority countries like Pakistan, Bangladesh, Egypt, Indonesia, Qatar, Jordan and Syria, he questioned. Citing the example of Egypt, where he was on a visit last week, PM Modi said the country had abolished Triple Talaq 80-90 years ago, even though 90 per cent of its population comprise Sunni Muslims. Slamming the opposition, he said, \"Whoever talks in favour of Triple Talaq, whoever advocates it, those vote bank hungry people are doing a great injustice to Muslim daughters. Triple talaq doesn't just do injustice to daughters. It is beyond this; the whole family get ruined\". Uniform Civil Code refers to a set of overarching laws that apply to everyone in the country and replaces religion-based personal laws, rules of inheritance, adoption and succession. Promoted Listen to the latest songs, only on JioSaavn.com In September last year, a private member's Bill that seeks to provide for a panel to prepare a Uniform Civil Code was introduced in the Rajya Sabha in face of great resistance by opposition parties. In the past, although similar bills were listed for introduction, they were not moved in the Upper House. Earlier this month, the law commission started a fresh consultation process on the Uniform Civil Code, seeking views from all stakeholders on the politically sensitive issue.\u001b[0m\u001b[32;1m\u001b[1;3mCongress and DMK question PM Modi's pitch for a uniform civil code. DMK argues it should be applied to Hindus first, allowing all castes to pray in temples. Congress criticizes Modi for not addressing poverty and unemployment. PM Modi defends uniform civil code, questions why Triple Talaq isn't practiced in Muslim-majority countries. Uniform civil code refers to overarching laws that replace religion-based personal laws. Law commission seeks views on the issue.\u001b[0m\n",
      "\n",
      "\u001b[1m> Finished chain.\u001b[0m\n",
      "\n",
      "\n",
      "\u001b[1m> Entering new  chain...\u001b[0m\n",
      "\u001b[32;1m\u001b[1;3m\n",
      "Invoking: `newssummary` with `{'source': 'latest'}`\n",
      "\n",
      "\n",
      "\u001b[0m\u001b[36;1m\u001b[1;3mPrime Minister Narendra Modi's pitch for a uniform civil code has been vehemently questioned by the Congress and its ally, the DMK. The ruling party of Tamil Nadu had contended that a uniform code should first be applied to the Hindus, who will then have to allow people from all castes to pray in temples. \"Uniform Civil Code should be first introduced in the Hindu religion. Every person including Scheduled Castes and Tribes should be allowed to perform pooja in any temple in the country. We don't want UCC (uniform Civil Code) only because the Constitution has given protection to every religion,\" said DMK's TKS Elangovan. \"He (PM Modi) should first answer about poverty, price rise and unemployment in the country,\" read a statement from Congress general secretary KC Venugopal. \"He never speaks on Manipur issue. The whole state is burning. He is just distracting people from all these issues,\" he added. Pitching for the implementation of Uniform Civil Code, which has been part of BJP's election manifestos, PM Modi said today that it doesn't work to have \"different set of rules for different members of a family\" and a country can't run on two laws. If \"Triple Talaq\" is an inalienable part of Islam, why it isn't practised in Muslim-majority countries like Pakistan, Bangladesh, Egypt, Indonesia, Qatar, Jordan and Syria, he questioned. Citing the example of Egypt, where he was on a visit last week, PM Modi said the country had abolished Triple Talaq 80-90 years ago, even though 90 per cent of its population comprise Sunni Muslims. Slamming the opposition, he said, \"Whoever talks in favour of Triple Talaq, whoever advocates it, those vote bank hungry people are doing a great injustice to Muslim daughters. Triple talaq doesn't just do injustice to daughters. It is beyond this; the whole family get ruined\". Uniform Civil Code refers to a set of overarching laws that apply to everyone in the country and replaces religion-based personal laws, rules of inheritance, adoption and succession. Promoted Listen to the latest songs, only on JioSaavn.com In September last year, a private member's Bill that seeks to provide for a panel to prepare a Uniform Civil Code was introduced in the Rajya Sabha in face of great resistance by opposition parties. In the past, although similar bills were listed for introduction, they were not moved in the Upper House. Earlier this month, the law commission started a fresh consultation process on the Uniform Civil Code, seeking views from all stakeholders on the politically sensitive issue.\u001b[0m"
     ]
    },
    {
     "name": "stderr",
     "output_type": "stream",
     "text": [
      "Retrying langchain.chat_models.openai.ChatOpenAI.completion_with_retry.<locals>._completion_with_retry in 1.0 seconds as it raised RateLimitError: Rate limit reached for default-gpt-3.5-turbo in organization org-sTxGXte3ziCUC03xQshXnu9v on requests per min. Limit: 3 / min. Please try again in 20s. Contact us through our help center at help.openai.com if you continue to have issues..\n",
      "Retrying langchain.chat_models.openai.ChatOpenAI.completion_with_retry.<locals>._completion_with_retry in 2.0 seconds as it raised RateLimitError: Rate limit reached for default-gpt-3.5-turbo in organization org-sTxGXte3ziCUC03xQshXnu9v on requests per min. Limit: 3 / min. Please try again in 20s. Contact us through our help center at help.openai.com if you continue to have issues..\n"
     ]
    },
    {
     "name": "stdout",
     "output_type": "stream",
     "text": [
      "\u001b[32;1m\u001b[1;3mCongress and DMK question PM Modi's pitch for a uniform civil code. DMK argues it should be applied to Hindus first, allowing all castes to pray in temples. Congress criticizes Modi for not addressing poverty and unemployment. PM Modi defends uniform civil code, questions why Triple Talaq isn't practiced in Muslim-majority countries. Uniform civil code refers to overarching laws that replace religion-based personal laws. Law commission seeks views on the issue.\u001b[0m\n",
      "\n",
      "\u001b[1m> Finished chain.\u001b[0m\n",
      "1\n",
      "1\n",
      "1\n",
      "1\n",
      "1\n"
     ]
    }
   ],
   "source": [
    "from time import sleep\n",
    "\n",
    "limit = \"175 characters\"\n",
    "responses = []\n",
    "prompt = f\"\"\"\n",
    "Your task is to get the latest news and then generate a short summary for this news \\\n",
    "Summarize the news \n",
    "in at most {limit}. Try to be as short as possible. Never ever cross the {limit} limit for summarized news.\n",
    "\"\"\"\n",
    "\n",
    "for i in range(5):\n",
    "    sleep(30)\n",
    "    response = agent.run(prompt)\n",
    "    responses.append(response)\n",
    "\n",
    "for response in responses:\n",
    "    print(len(response.split(\" \")))"
   ]
  },
  {
   "cell_type": "code",
   "execution_count": 58,
   "metadata": {},
   "outputs": [
    {
     "data": {
      "text/plain": [
       "54"
      ]
     },
     "execution_count": 58,
     "metadata": {},
     "output_type": "execute_result"
    }
   ],
   "source": [
    "len(responses[0].split(\" \"))"
   ]
  },
  {
   "cell_type": "code",
   "execution_count": 55,
   "metadata": {},
   "outputs": [
    {
     "data": {
      "text/plain": [
       "['Seven people have been arrested for the gunpoint robbery of a delivery agent and his associate in Delhi. The accused robbed them of Rs 2 lakh while they were on their way to deliver the money. CCTV footage showed four men on motorcycles intercepting the car inside a tunnel and fleeing with the money.',\n",
       " \"AAP demands CAG probe into Kejriwal's bungalow renovation. The Union Home Ministry has ordered an audit following allegations of irregularities. AAP accuses BJP of targeting political opponents. CAG to conduct special audit into financial irregularities. AAP urges investigation into scams in BJP-ruled states.\",\n",
       " \"Pune attack: Man with machete chases and attacks woman in street. Locals overpower him and hand him over to police. Attacker arrested and charged with attempted murder. Victim's mother says he had been harassing her daughter.\",\n",
       " \"Congress and DMK question PM Modi's pitch for a uniform civil code. DMK argues it should be applied to Hindus first, allowing all castes to pray in temples. Congress criticizes Modi for not addressing poverty and unemployment. PM Modi defends uniform civil code, questions why Triple Talaq isn't practiced in Muslim-majority countries. Uniform civil code refers to overarching laws that replace religion-based personal laws. Law commission seeks views on the issue.\",\n",
       " \"Congress and DMK question PM Modi's pitch for a uniform civil code. DMK argues it should be applied to Hindus first, allowing all castes to pray in temples. Congress criticizes Modi for not addressing poverty and unemployment. PM Modi defends uniform civil code, questions why Triple Talaq isn't practiced in Muslim-majority countries. Uniform civil code refers to overarching laws that replace religion-based personal laws. Law commission seeks views on the issue.\"]"
      ]
     },
     "execution_count": 55,
     "metadata": {},
     "output_type": "execute_result"
    }
   ],
   "source": [
    "responses"
   ]
  },
  {
   "cell_type": "code",
   "execution_count": null,
   "metadata": {},
   "outputs": [],
   "source": []
  }
 ],
 "metadata": {
  "kernelspec": {
   "display_name": "langchain",
   "language": "python",
   "name": "python3"
  },
  "language_info": {
   "codemirror_mode": {
    "name": "ipython",
    "version": 3
   },
   "file_extension": ".py",
   "mimetype": "text/x-python",
   "name": "python",
   "nbconvert_exporter": "python",
   "pygments_lexer": "ipython3",
   "version": "3.10.11"
  },
  "orig_nbformat": 4
 },
 "nbformat": 4,
 "nbformat_minor": 2
}
